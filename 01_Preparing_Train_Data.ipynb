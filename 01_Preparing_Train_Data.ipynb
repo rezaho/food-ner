{
 "cells": [
  {
   "cell_type": "code",
   "execution_count": 43,
   "id": "stylish-fireplace",
   "metadata": {},
   "outputs": [],
   "source": [
    "import pandas as pd\n",
    "import matplotlib.pyplot as plt\n",
    "import matplotlib\n",
    "import numpy as np\n",
    "import random\n",
    "import json\n",
    "import re\n",
    "import copy\n",
    "\n",
    "from tqdm.auto import tqdm\n",
    "tqdm.pandas()\n",
    "\n",
    "import seaborn as sns\n",
    "sns.set_theme()"
   ]
  },
  {
   "cell_type": "code",
   "execution_count": 44,
   "id": "julian-leather",
   "metadata": {},
   "outputs": [],
   "source": [
    "from utils import mappings, labeled_entities, helpers"
   ]
  },
  {
   "cell_type": "code",
   "execution_count": 45,
   "id": "cathedral-frost",
   "metadata": {},
   "outputs": [],
   "source": [
    "pd.set_option('max_colwidth', 100)\n",
    "pd.set_option('max_columns', 30)"
   ]
  },
  {
   "cell_type": "markdown",
   "id": "stainless-intellectual",
   "metadata": {},
   "source": [
    "## 1. Loading Pre-processed USDA Data for Food labels"
   ]
  },
  {
   "cell_type": "markdown",
   "id": "progressive-folks",
   "metadata": {},
   "source": [
    "For building this dataset, I have used [FoodData USDA (Version April 2020)](https://fdc.nal.usda.gov/download-datasets.html) as the base. This dataset contains different food mentions of different types. In order to infer the entity types of each of these food mentions, I have used [Google Knowledge Graph API](https://developers.google.com/knowledge-graph).\n",
    "The entries that you see in the `food_processing`dataset below, are the results of Google Knowledge Graph API (`name`, `description`, `types`, and `id`). The `query` column contains the items that have been queried (from FoodData USPTO).\n",
    "\n",
    "I still haven't included the codes for building this dataset\n",
    "\n",
    "(*TO-DO: Add the codes for preparing this dataset!*)"
   ]
  },
  {
   "cell_type": "code",
   "execution_count": 46,
   "id": "bridal-heath",
   "metadata": {},
   "outputs": [
    {
     "name": "stdout",
     "output_type": "stream",
     "text": [
      "Number of rows: 44,086\n"
     ]
    },
    {
     "data": {
      "text/html": [
       "<div>\n",
       "<style scoped>\n",
       "    .dataframe tbody tr th:only-of-type {\n",
       "        vertical-align: middle;\n",
       "    }\n",
       "\n",
       "    .dataframe tbody tr th {\n",
       "        vertical-align: top;\n",
       "    }\n",
       "\n",
       "    .dataframe thead th {\n",
       "        text-align: right;\n",
       "    }\n",
       "</style>\n",
       "<table border=\"1\" class=\"dataframe\">\n",
       "  <thead>\n",
       "    <tr style=\"text-align: right;\">\n",
       "      <th></th>\n",
       "      <th>query</th>\n",
       "      <th>name</th>\n",
       "      <th>description</th>\n",
       "      <th>types</th>\n",
       "      <th>id</th>\n",
       "      <th>status</th>\n",
       "      <th>word_count</th>\n",
       "    </tr>\n",
       "  </thead>\n",
       "  <tbody>\n",
       "    <tr>\n",
       "      <th>0</th>\n",
       "      <td>Hsyalm</td>\n",
       "      <td>NaN</td>\n",
       "      <td>NaN</td>\n",
       "      <td>[]</td>\n",
       "      <td>NaN</td>\n",
       "      <td>succeed</td>\n",
       "      <td>one word</td>\n",
       "    </tr>\n",
       "    <tr>\n",
       "      <th>1</th>\n",
       "      <td>Kale</td>\n",
       "      <td>Wild cabbage</td>\n",
       "      <td>Plants</td>\n",
       "      <td>[Thing]</td>\n",
       "      <td>kg:/m/04ylr2</td>\n",
       "      <td>succeed</td>\n",
       "      <td>one word</td>\n",
       "    </tr>\n",
       "  </tbody>\n",
       "</table>\n",
       "</div>"
      ],
      "text/plain": [
       "    query          name description    types            id   status word_count\n",
       "0  Hsyalm           NaN         NaN       []           NaN  succeed   one word\n",
       "1    Kale  Wild cabbage      Plants  [Thing]  kg:/m/04ylr2  succeed   one word"
      ]
     },
     "execution_count": 46,
     "metadata": {},
     "output_type": "execute_result"
    }
   ],
   "source": [
    "foods_processing = pd.read_csv('./data/foods_list_usda.txt')\n",
    "foods_processing['types'] = foods_processing.types.fillna('[]').apply(lambda x: json.loads(x.replace(\"'\", '\"')))\n",
    "\n",
    "print('Number of rows: {:,}'.format(foods_processing.shape[0]))\n",
    "foods_processing.head(2)"
   ]
  },
  {
   "cell_type": "code",
   "execution_count": 47,
   "id": "behavioral-toyota",
   "metadata": {},
   "outputs": [
    {
     "name": "stdout",
     "output_type": "stream",
     "text": [
      "Number of rows: 16,166\n"
     ]
    }
   ],
   "source": [
    "foods_processing = foods_processing.dropna(subset=['name'])\n",
    "print('Number of rows: {:,}'.format(foods_processing.shape[0]))"
   ]
  },
  {
   "cell_type": "code",
   "execution_count": 48,
   "id": "super-microphone",
   "metadata": {},
   "outputs": [
    {
     "data": {
      "image/png": "[encoded data removed]",
      "text/plain": [
       "<Figure size 625.225x360 with 1 Axes>"
      ]
     },
     "metadata": {},
     "output_type": "display_data"
    }
   ],
   "source": [
    "g = sns.catplot(x=\"word_count\", hue=\"status\", data=foods_processing, \n",
    "                kind=\"count\", height=5, aspect=1.5);\n",
    "\n",
    "g.ax.set_title('Food Mentions Distribution Based on Number of Words', fontsize=18);\n",
    "g.set_xticklabels(fontsize=16, );\n",
    "g.set_xlabels(fontsize=18, label='Number of Words');\n",
    "g.set_ylabels(fontsize=18, label='Count');"
   ]
  },
  {
   "cell_type": "markdown",
   "id": "entertaining-answer",
   "metadata": {},
   "source": [
    "# 2. Entity Extraction From FoodData USDA Preprocessed"
   ]
  },
  {
   "cell_type": "markdown",
   "id": "molecular-block",
   "metadata": {},
   "source": [
    "## 2.1. Extracting Product Entities"
   ]
  },
  {
   "cell_type": "code",
   "execution_count": 49,
   "id": "afraid-internet",
   "metadata": {},
   "outputs": [
    {
     "name": "stdout",
     "output_type": "stream",
     "text": [
      "(574, 7)\n"
     ]
    }
   ],
   "source": [
    "products_mask = foods_processing['types'].apply(lambda x: bool(set(x if x is not None else [])\\\n",
    "                                                            .intersection(['Product', 'ProductModel'])))\n",
    "products = foods_processing[products_mask]\n",
    "print(products.shape)"
   ]
  },
  {
   "cell_type": "code",
   "execution_count": 50,
   "id": "classical-passage",
   "metadata": {},
   "outputs": [],
   "source": [
    "product_entities = products.copy()\n",
    "product_entities['word'] = products['name']\n",
    "product_entities['entity'] = 'product'"
   ]
  },
  {
   "cell_type": "markdown",
   "id": "laden-species",
   "metadata": {},
   "source": [
    "## 2.2. Extracting Other Remaining Entities"
   ]
  },
  {
   "cell_type": "code",
   "execution_count": 51,
   "id": "durable-argument",
   "metadata": {},
   "outputs": [
    {
     "name": "stdout",
     "output_type": "stream",
     "text": [
      "(15318, 7)\n"
     ]
    }
   ],
   "source": [
    "unrelated_mask = foods_processing.types.apply(lambda x: bool(set(x if x is not None else [])\\\n",
    "                                                           .intersection(['Product', 'ProductModel', 'Place'])))\n",
    "food_entities = foods_processing[~unrelated_mask]\n",
    "print(food_entities.shape)"
   ]
  },
  {
   "cell_type": "code",
   "execution_count": 52,
   "id": "champion-track",
   "metadata": {},
   "outputs": [],
   "source": [
    "def convert_to_food_entities(x):\n",
    "    mapping = mappings.description_to_entityType.get(x['description'], {})\n",
    "    return pd.Series([x[mapping.get('column', 'query')], mapping.get('type', 'others')])\n",
    "\n",
    "# Building processed food entities list\n",
    "food_entities_processed = pd.concat([\n",
    "    pd.concat([\n",
    "        food_entities, \n",
    "        food_entities.apply(lambda x: convert_to_food_entities(x), axis=1).rename(columns={0:'word', 1:'entity'})\n",
    "    ], axis=1),\n",
    "    product_entities\n",
    "], axis=0, ignore_index=True)"
   ]
  },
  {
   "cell_type": "markdown",
   "id": "cardiovascular-latino",
   "metadata": {},
   "source": [
    "## 2.3. Adding Additional Entities Manually"
   ]
  },
  {
   "cell_type": "code",
   "execution_count": 53,
   "id": "toxic-journalism",
   "metadata": {},
   "outputs": [],
   "source": [
    "food_entities_mapping = pd.concat([\n",
    "    food_entities_processed[food_entities_processed.entity!='others'][['word', 'entity']],\n",
    "    pd.DataFrame(labeled_entities.additional_samples)\n",
    "]).drop_duplicates().reset_index(drop=True)"
   ]
  },
  {
   "cell_type": "code",
   "execution_count": 54,
   "id": "electoral-tonight",
   "metadata": {},
   "outputs": [],
   "source": [
    "food_entities_mapping.to_csv('./data/foods_entities.csv', index=False, encoding='utf-8')"
   ]
  },
  {
   "cell_type": "markdown",
   "id": "fixed-illness",
   "metadata": {},
   "source": [
    "# 3. Preparing Training Data Using Template"
   ]
  },
  {
   "cell_type": "markdown",
   "id": "involved-cambodia",
   "metadata": {},
   "source": [
    "## 3.1. Labeled Training Data"
   ]
  },
  {
   "cell_type": "code",
   "execution_count": 56,
   "id": "normal-business",
   "metadata": {},
   "outputs": [],
   "source": [
    "labeled_samples = []\n",
    "with open('../data/food/food_ner_samples_labeled_v10.jsonl', encoding='utf-8') as file:\n",
    "    for line in file.readlines():\n",
    "        labeled_samples.append(json.loads(line))"
   ]
  },
  {
   "cell_type": "markdown",
   "id": "about-timber",
   "metadata": {},
   "source": [
    "## 3.2. Loading Food Entities Examples"
   ]
  },
  {
   "cell_type": "code",
   "execution_count": 57,
   "id": "mental-gateway",
   "metadata": {},
   "outputs": [
    {
     "name": "stdout",
     "output_type": "stream",
     "text": [
      "(3072, 2)\n"
     ]
    }
   ],
   "source": [
    "food_entities_mapping = pd.read_csv('./data/foods_entities.csv')\n",
    "print(food_entities_mapping.shape)"
   ]
  },
  {
   "cell_type": "code",
   "execution_count": 58,
   "id": "provincial-fairy",
   "metadata": {},
   "outputs": [],
   "source": [
    "final_mapping = {\n",
    "     'ingredient': 'INGREDIENT',\n",
    "     'food': 'FOOD',\n",
    "     'product': 'PRODUCT',\n",
    "     'organization': 'ORG',\n",
    "     'beverage': 'DRINK',\n",
    "     'flavor': 'FLAVOR/SMELL',\n",
    "     'persona': 'PERSONA',\n",
    "     'meal': 'OCCASION',\n",
    "     'occasionConsumption': 'OCCASION',\n",
    "     'occasionTime': 'OCCASION'\n",
    "}"
   ]
  },
  {
   "cell_type": "code",
   "execution_count": 59,
   "id": "behind-opportunity",
   "metadata": {},
   "outputs": [],
   "source": [
    "food_entities_mapping['entity'] = food_entities_mapping.entity.map(final_mapping)"
   ]
  },
  {
   "cell_type": "code",
   "execution_count": 60,
   "id": "limited-eligibility",
   "metadata": {},
   "outputs": [
    {
     "data": {
      "image/png": "[encoded data removed]",
      "text/plain": [
       "<Figure size 540x360 with 1 Axes>"
      ]
     },
     "metadata": {},
     "output_type": "display_data"
    }
   ],
   "source": [
    "g = sns.catplot(x=\"entity\", data=food_entities_mapping, \n",
    "                kind=\"count\", height=5, aspect=1.5);\n",
    "g.ax.set_title('Entities Count', fontsize=18);\n",
    "g.set_xticklabels(rotation=30, ha='right', fontsize=16);"
   ]
  },
  {
   "cell_type": "code",
   "execution_count": 61,
   "id": "applied-subdivision",
   "metadata": {},
   "outputs": [],
   "source": [
    "food_entities_mapping = food_entities_mapping.groupby('entity')['word'].apply(set).apply(tuple).to_dict()"
   ]
  },
  {
   "cell_type": "markdown",
   "id": "important-length",
   "metadata": {},
   "source": [
    "## 3.3. Creating Additional Synthetic Data Using FoodData USDA Data"
   ]
  },
  {
   "cell_type": "code",
   "execution_count": 70,
   "id": "thirty-hepatitis",
   "metadata": {},
   "outputs": [
    {
     "data": {
      "application/vnd.jupyter.widget-view+json": {
       "model_id": "029ff1e95ce14a15a0e62160291d471e",
       "version_major": 2,
       "version_minor": 0
      },
      "text/plain": [
       "HBox(children=(FloatProgress(value=0.0, max=172.0), HTML(value='')))"
      ]
     },
     "metadata": {},
     "output_type": "display_data"
    },
    {
     "name": "stdout",
     "output_type": "stream",
     "text": [
      "\n"
     ]
    }
   ],
   "source": [
    "random.shuffle(labeled_samples)\n",
    "\n",
    "training_samples = []\n",
    "\n",
    "for elm in tqdm(labeled_samples):\n",
    "    elm_template_text = elm['text']\n",
    "    elm_template_entities = []\n",
    "    shift_idx = 0\n",
    "    special_entities = dict()\n",
    "    for el in sorted(elm['labels'], key=lambda x: x[0]):\n",
    "        # Adding to the special entities if not found in the `food_mapping` entities\n",
    "        if el[2] not in final_mapping.values():\n",
    "            values = special_entities.get(el[2], tuple())\n",
    "            special_entities[el[2]] = values + (elm_template_text[el[0]-shift_idx:el[1]-shift_idx],)\n",
    "        \n",
    "        elm_template_text = elm_template_text[:el[0]-shift_idx]+ '{}' + elm_template_text[el[1]-shift_idx:]\n",
    "        elm_template_entities.append(el[2])\n",
    "        shift_idx += el[1] - el[0] - 2\n",
    "    elm_template = dict(text=elm_template_text, entities=elm_template_entities)\n",
    "\n",
    "    for i in range(40):\n",
    "        if i==0:\n",
    "            training_samples.append((elm['text'], dict(entities=tuple(elm['labels']))))\n",
    "            continue\n",
    "        sentence = elm_template['text']\n",
    "        # Copying the mapping\n",
    "        mapping = copy.deepcopy(food_entities_mapping)\n",
    "        mapping.update(special_entities)\n",
    "        # For each entity in template replace them with random entity from mapping\n",
    "        entities = []\n",
    "        for entity in elm_template['entities']:\n",
    "            # If the entity is complete (with spans), add it directly to the entities list\n",
    "            if isinstance(entity, tuple):\n",
    "                entities.append(entity)\n",
    "                continue\n",
    "            # Take a random entity\n",
    "            idx = np.random.randint(len(mapping[entity]))\n",
    "            text = mapping[entity][idx]\n",
    "            # Remove selected entity from the mapping\n",
    "            mapping[entity] = helpers.remove_from_list(mapping[entity], idx)\n",
    "            # Putting the selected entity into the sentence template\n",
    "            text = text.lower()\n",
    "            # Replacing \"{}\" with the text\n",
    "            span = list(re.finditer('(\\{\\})', sentence))[0].span()\n",
    "            sentence = sentence[:span[0]] + text + sentence[span[1]:]\n",
    "            # Calculating new span after replacing with the text\n",
    "            span = (span[0], span[0]+len(text))\n",
    "            # Adding spans and entity type into list of entities\n",
    "            entities.append((span[0], span[1], entity))\n",
    "        # Adding the labeled data into the final list\n",
    "        training_samples.append((sentence, dict(entities=entities)))"
   ]
  },
  {
   "cell_type": "markdown",
   "id": "specific-match",
   "metadata": {},
   "source": [
    "# 4. Train-test split"
   ]
  },
  {
   "cell_type": "markdown",
   "id": "elect-anchor",
   "metadata": {},
   "source": [
    "## 4.1. Splitting & Shuffling"
   ]
  },
  {
   "cell_type": "code",
   "execution_count": 71,
   "id": "fossil-imagination",
   "metadata": {},
   "outputs": [],
   "source": [
    "# train-test split\n",
    "train_ratio = 0.6\n",
    "n_samples = len(training_samples)"
   ]
  },
  {
   "cell_type": "markdown",
   "id": "naughty-macedonia",
   "metadata": {},
   "source": [
    "We will first split the train-test samples and then shuffle, in order to prevent leaking training samples to the test set"
   ]
  },
  {
   "cell_type": "code",
   "execution_count": 72,
   "id": "necessary-kentucky",
   "metadata": {},
   "outputs": [],
   "source": [
    "training_set = training_samples[:int(0.4*n_samples)]\n",
    "random.shuffle(training_set)\n",
    "\n",
    "test_set = training_samples[int(0.4*n_samples):]\n",
    "random.shuffle(test_set)"
   ]
  },
  {
   "cell_type": "markdown",
   "id": "renewable-medline",
   "metadata": {},
   "source": [
    "## 4.2. Saving Train-Test Datasets Into Appropriate Files"
   ]
  },
  {
   "cell_type": "code",
   "execution_count": 73,
   "id": "assumed-stylus",
   "metadata": {},
   "outputs": [
    {
     "data": {
      "application/vnd.jupyter.widget-view+json": {
       "model_id": "567c369b07d94e2a8549106e79edee1a",
       "version_major": 2,
       "version_minor": 0
      },
      "text/plain": [
       "HBox(children=(FloatProgress(value=0.0, max=2752.0), HTML(value='')))"
      ]
     },
     "metadata": {},
     "output_type": "display_data"
    },
    {
     "name": "stdout",
     "output_type": "stream",
     "text": [
      "\n"
     ]
    }
   ],
   "source": [
    "# Write to the disk\n",
    "with open('./data/food_ner_dataset_training.jsonl', 'w', encoding='utf-8') as file:\n",
    "    for line in tqdm(training_set):\n",
    "        file.write(json.dumps(line)+'\\n')"
   ]
  },
  {
   "cell_type": "code",
   "execution_count": 74,
   "id": "numeric-daniel",
   "metadata": {},
   "outputs": [
    {
     "data": {
      "application/vnd.jupyter.widget-view+json": {
       "model_id": "e644c366b3cf4c4eafedc3bf3e43c4a6",
       "version_major": 2,
       "version_minor": 0
      },
      "text/plain": [
       "HBox(children=(FloatProgress(value=0.0, max=4128.0), HTML(value='')))"
      ]
     },
     "metadata": {},
     "output_type": "display_data"
    },
    {
     "name": "stdout",
     "output_type": "stream",
     "text": [
      "\n"
     ]
    }
   ],
   "source": [
    "# Write to the disk\n",
    "with open('./data/food_ner_dataset_test.jsonl', 'w', encoding='utf-8') as file:\n",
    "    for line in tqdm(test_set):\n",
    "        file.write(json.dumps(line)+'\\n')"
   ]
  },
  {
   "cell_type": "code",
   "execution_count": null,
   "id": "formal-airplane",
   "metadata": {},
   "outputs": [],
   "source": []
  }
 ],
 "metadata": {
  "kernelspec": {
   "display_name": "Python 3",
   "language": "python",
   "name": "python3"
  },
  "language_info": {
   "codemirror_mode": {
    "name": "ipython",
    "version": 3
   },
   "file_extension": ".py",
   "mimetype": "text/x-python",
   "name": "python",
   "nbconvert_exporter": "python",
   "pygments_lexer": "ipython3",
   "version": "3.8.5"
  }
 },
 "nbformat": 4,
 "nbformat_minor": 5
}

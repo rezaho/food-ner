{
 "cells": [
  {
   "cell_type": "code",
   "execution_count": null,
   "id": "liberal-exclusive",
   "metadata": {},
   "outputs": [],
   "source": [
    "import os\n",
    "import spacy\n",
    "import pandas as pd\n",
    "import numpy as np\n",
    "import json\n",
    "from datasets import ClassLabel, load_dataset, load_metric\n",
    "from tqdm.auto import tqdm\n",
    "\n",
    "import transformers\n",
    "from transformers import (\n",
    "    AutoConfig,\n",
    "    AutoModelForTokenClassification,\n",
    "    AutoTokenizer,\n",
    "    DataCollatorForTokenClassification,\n",
    "    PreTrainedTokenizerFast,\n",
    "    Trainer,\n",
    "    TrainingArguments,\n",
    "    set_seed,\n",
    ")"
   ]
  },
  {
   "cell_type": "code",
   "execution_count": 1,
   "id": "creative-biodiversity",
   "metadata": {},
   "outputs": [],
   "source": [
    "from spacy.training import Example, offsets_to_biluo_tags, biluo_to_iob"
   ]
  },
  {
   "cell_type": "markdown",
   "id": "efficient-immunology",
   "metadata": {},
   "source": [
    "# 1. Preparation"
   ]
  },
  {
   "cell_type": "markdown",
   "id": "lyric-polish",
   "metadata": {},
   "source": [
    "## 1.1. Preparing Train-test set"
   ]
  },
  {
   "cell_type": "code",
   "execution_count": 13,
   "id": "romantic-crack",
   "metadata": {},
   "outputs": [
    {
     "data": {
      "application/vnd.jupyter.widget-view+json": {
       "model_id": "58b6b00ebfb4416094a8b07401a2dc2b",
       "version_major": 2,
       "version_minor": 0
      },
      "text/plain": [
       "HBox(children=(FloatProgress(value=0.0, max=2752.0), HTML(value='')))"
      ]
     },
     "metadata": {},
     "output_type": "display_data"
    },
    {
     "name": "stdout",
     "output_type": "stream",
     "text": [
      "\n"
     ]
    }
   ],
   "source": [
    "# Read data from disk\n",
    "training_data = []\n",
    "with open('./data/food_ner_dataset_training.jsonl', 'r', encoding='utf-8') as file:\n",
    "    for line in tqdm(file.readlines()):\n",
    "        training_data.append(json.loads(line))"
   ]
  },
  {
   "cell_type": "code",
   "execution_count": 14,
   "id": "general-florida",
   "metadata": {},
   "outputs": [
    {
     "data": {
      "application/vnd.jupyter.widget-view+json": {
       "model_id": "5cd0cb85b1e144f69bf0e5821831b5b9",
       "version_major": 2,
       "version_minor": 0
      },
      "text/plain": [
       "HBox(children=(FloatProgress(value=0.0, max=4128.0), HTML(value='')))"
      ]
     },
     "metadata": {},
     "output_type": "display_data"
    },
    {
     "name": "stdout",
     "output_type": "stream",
     "text": [
      "\n"
     ]
    }
   ],
   "source": [
    "# Read data from disk\n",
    "eval_data = []\n",
    "with open('./data/food_ner_dataset_test.jsonl', 'r', encoding='utf-8') as file:\n",
    "    for line in tqdm(file.readlines()):\n",
    "        eval_data.append(json.loads(line))"
   ]
  },
  {
   "cell_type": "markdown",
   "id": "champion-escape",
   "metadata": {},
   "source": [
    "## 1.2. Loading Spacy Model for preprocessing"
   ]
  },
  {
   "cell_type": "code",
   "execution_count": null,
   "id": "suspected-casino",
   "metadata": {},
   "outputs": [],
   "source": [
    "nlp = spacy.load('en_core_web_lg')"
   ]
  },
  {
   "cell_type": "code",
   "execution_count": null,
   "id": "established-underwear",
   "metadata": {},
   "outputs": [],
   "source": [
    "def preprocessing_for_trf(dataset):\n",
    "    processed_dataset = []\n",
    "    for item in tqdm(dataset):\n",
    "        doc = nlp.make_doc(item[0])\n",
    "        example = Example.from_dict(doc, item[1])\n",
    "        # Preparing samples\n",
    "        text = example.text\n",
    "        entities = biluo_to_iob(example.to_dict()['doc_annotation']['entities'])\n",
    "        tokens = example.to_dict()['token_annotation']['ORTH']\n",
    "        processed_dataset.append(dict(text=text, ner_tags=entities, tokens=tokens))\n",
    "    \n",
    "    return processed_dataset"
   ]
  },
  {
   "cell_type": "code",
   "execution_count": null,
   "id": "narrow-bones",
   "metadata": {},
   "outputs": [],
   "source": [
    "processed_training = preprocessing_for_trf(training_data)"
   ]
  },
  {
   "cell_type": "code",
   "execution_count": null,
   "id": "cordless-sweet",
   "metadata": {},
   "outputs": [],
   "source": [
    "with open('./data/food_ner_dataset_trf_v1_training.jsonl', 'w', encoding='utf-8') as file:\n",
    "    for line in tqdm(processed_training):\n",
    "        file.write(json.dumps(line)+'\\n')"
   ]
  },
  {
   "cell_type": "code",
   "execution_count": null,
   "id": "unauthorized-bulgaria",
   "metadata": {},
   "outputs": [],
   "source": [
    "processed_eval = preprocessing_for_trf(eval_data)"
   ]
  },
  {
   "cell_type": "code",
   "execution_count": null,
   "id": "clear-coating",
   "metadata": {},
   "outputs": [],
   "source": [
    "with open('./data/food_ner_dataset_trf_v1_eval.jsonl', 'w', encoding='utf-8') as file:\n",
    "    for line in tqdm(processed_eval):\n",
    "        file.write(json.dumps(line)+'\\n')"
   ]
  },
  {
   "cell_type": "markdown",
   "id": "fallen-kitchen",
   "metadata": {},
   "source": [
    "## 3.2. Loading Dataset"
   ]
  },
  {
   "cell_type": "code",
   "execution_count": null,
   "id": "stainless-country",
   "metadata": {},
   "outputs": [],
   "source": [
    "from datasets import load_dataset"
   ]
  },
  {
   "cell_type": "code",
   "execution_count": null,
   "id": "artistic-sensitivity",
   "metadata": {},
   "outputs": [],
   "source": [
    "train_file_path = './data/food_ner_dataset_trf_v1_training.jsonl'\n",
    "eval_file_path = './data/food_ner_dataset_trf_v1_eval.jsonl'"
   ]
  },
  {
   "cell_type": "code",
   "execution_count": null,
   "id": "sharp-choice",
   "metadata": {},
   "outputs": [],
   "source": [
    "datasets = load_dataset('json', data_files={'train': train_file_path, 'validation': eval_file_path} )"
   ]
  },
  {
   "cell_type": "code",
   "execution_count": null,
   "id": "chinese-shareware",
   "metadata": {},
   "outputs": [],
   "source": [
    "datasets"
   ]
  },
  {
   "cell_type": "markdown",
   "id": "exact-mexico",
   "metadata": {},
   "source": [
    "## 3.3. Training"
   ]
  },
  {
   "cell_type": "code",
   "execution_count": null,
   "id": "cordless-therapist",
   "metadata": {},
   "outputs": [],
   "source": [
    "def get_last_checkpoint(folder):\n",
    "    content = os.listdir(folder)\n",
    "    checkpoints = [\n",
    "        path\n",
    "        for path in content\n",
    "        if _re_checkpoint.search(path) is not None and os.path.isdir(os.path.join(folder, path))\n",
    "    ]\n",
    "    if len(checkpoints) == 0:\n",
    "        return\n",
    "    return os.path.join(folder, max(checkpoints, key=lambda x: int(_re_checkpoint.search(x).groups()[0])))\n"
   ]
  },
  {
   "cell_type": "code",
   "execution_count": null,
   "id": "endangered-tampa",
   "metadata": {},
   "outputs": [],
   "source": [
    "# Set seed before initializing model.\n",
    "set_seed(42)"
   ]
  },
  {
   "cell_type": "code",
   "execution_count": null,
   "id": "registered-excess",
   "metadata": {},
   "outputs": [],
   "source": [
    "column_names = datasets[\"train\"].column_names\n",
    "features = datasets[\"train\"].features"
   ]
  },
  {
   "cell_type": "code",
   "execution_count": null,
   "id": "sustainable-emerald",
   "metadata": {},
   "outputs": [],
   "source": [
    "text_column_name = \"tokens\" if \"tokens\" in column_names else column_names[0]\n",
    "label_column_name = (\n",
    "        \"ner_tags\" if \"ner_tags\" in column_names else column_names[1]\n",
    ")"
   ]
  },
  {
   "cell_type": "code",
   "execution_count": null,
   "id": "bronze-worship",
   "metadata": {},
   "outputs": [],
   "source": [
    "text_column_name, label_column_name"
   ]
  },
  {
   "cell_type": "code",
   "execution_count": null,
   "id": "portuguese-friend",
   "metadata": {},
   "outputs": [],
   "source": [
    "# In the event the labels are not a `Sequence[ClassLabel]`, we will need to go through the dataset to get the\n",
    "# unique labels.\n",
    "def get_label_list(labels):\n",
    "    unique_labels = set()\n",
    "    for label in labels:\n",
    "        unique_labels = unique_labels | set(label)\n",
    "    label_list = list(unique_labels)\n",
    "    label_list.sort()\n",
    "    return label_list\n",
    "\n",
    "if isinstance(features[label_column_name].feature, ClassLabel):\n",
    "    label_list = features[label_column_name].feature.names\n",
    "    # No need to convert the labels since they are already ints.\n",
    "    label_to_id = {i: i for i in range(len(label_list))}\n",
    "else:\n",
    "    label_list = get_label_list(datasets[\"train\"][label_column_name])\n",
    "    label_to_id = {l: i for i, l in enumerate(label_list)}\n",
    "    \n",
    "num_labels = len(label_list)"
   ]
  },
  {
   "cell_type": "code",
   "execution_count": null,
   "id": "spectacular-flooring",
   "metadata": {},
   "outputs": [],
   "source": [
    "num_labels"
   ]
  },
  {
   "cell_type": "code",
   "execution_count": null,
   "id": "heated-auction",
   "metadata": {},
   "outputs": [],
   "source": [
    "# Load pretrained model and tokenizer\n",
    "#\n",
    "# Distributed training:\n",
    "# The .from_pretrained methods guarantee that only one local process can concurrently\n",
    "# download model & vocab.\n",
    "config = AutoConfig.from_pretrained(\n",
    "    \"bert-base-uncased\",\n",
    "    num_labels=num_labels,\n",
    "    finetuning_task='ner',\n",
    "    cache_dir=None,\n",
    "    revision='main',\n",
    "    use_auth_token=None,\n",
    ")\n",
    "tokenizer = AutoTokenizer.from_pretrained(\n",
    "    \"bert-base-uncased\",\n",
    "    cache_dir=None,\n",
    "    use_fast=True,\n",
    "    revision='main',\n",
    "    use_auth_token=None,\n",
    ")\n",
    "model = AutoModelForTokenClassification.from_pretrained(\n",
    "    \"bert-base-uncased\",\n",
    "    from_tf=False,\n",
    "    config=config,\n",
    "    cache_dir=None,\n",
    "    revision=\"main\",\n",
    "    use_auth_token=None,\n",
    ")"
   ]
  },
  {
   "cell_type": "code",
   "execution_count": null,
   "id": "prescription-storage",
   "metadata": {},
   "outputs": [],
   "source": [
    "# Tokenizer check: this script requires a fast tokenizer.\n",
    "if not isinstance(tokenizer, PreTrainedTokenizerFast):\n",
    "    raise ValueError(\n",
    "        \"This example script only works for models that have a fast tokenizer.\"\n",
    "    )"
   ]
  },
  {
   "cell_type": "code",
   "execution_count": null,
   "id": "alone-helen",
   "metadata": {},
   "outputs": [],
   "source": [
    "preprocessing_num_workers = 6\n",
    "overwrite_cache = False\n",
    "label_all_tokens = True"
   ]
  },
  {
   "cell_type": "code",
   "execution_count": null,
   "id": "vanilla-armenia",
   "metadata": {},
   "outputs": [],
   "source": [
    "# Padding strategy\n",
    "padding = False\n",
    "\n",
    "# Tokenize all texts and align the labels with them.\n",
    "def tokenize_and_align_labels(examples):\n",
    "    tokenized_inputs = tokenizer(\n",
    "        examples[text_column_name],\n",
    "        padding=padding,\n",
    "        truncation=True,\n",
    "        # We use this argument because the texts in our dataset are lists of words (with a label for each word).\n",
    "        is_split_into_words=True,\n",
    "    )\n",
    "    labels = []\n",
    "    for i, label in enumerate(examples[label_column_name]):\n",
    "        word_ids = tokenized_inputs.word_ids(batch_index=i)\n",
    "        previous_word_idx = None\n",
    "        label_ids = []\n",
    "        for word_idx in word_ids:\n",
    "            # Special tokens have a word id that is None. We set the label to -100 so they are automatically\n",
    "            # ignored in the loss function.\n",
    "            if word_idx is None:\n",
    "                label_ids.append(-100)\n",
    "            # We set the label for the first token of each word.\n",
    "            elif word_idx != previous_word_idx:\n",
    "                label_ids.append(label_to_id[label[word_idx]])\n",
    "            # For the other tokens in a word, we set the label to either the current label or -100, depending on\n",
    "            # the label_all_tokens flag.\n",
    "            else:\n",
    "                label_ids.append(label_to_id[label[word_idx]] if label_all_tokens else -100)\n",
    "            previous_word_idx = word_idx\n",
    "\n",
    "        labels.append(label_ids)\n",
    "    tokenized_inputs[\"labels\"] = labels\n",
    "    return tokenized_inputs\n",
    "\n",
    "tokenized_datasets = datasets.map(\n",
    "    tokenize_and_align_labels,\n",
    "    batched=True,\n",
    "    num_proc=preprocessing_num_workers,\n",
    "    load_from_cache_file=not overwrite_cache,\n",
    "    batch_size=2000\n",
    ")"
   ]
  },
  {
   "cell_type": "code",
   "execution_count": null,
   "id": "contrary-disco",
   "metadata": {},
   "outputs": [],
   "source": [
    "# Data collator\n",
    "fp16 = False # Whether to use 16-bit (mixed) precision training instead of 32-bit training.\n",
    "data_collator = DataCollatorForTokenClassification(tokenizer, pad_to_multiple_of=8 if fp16 else None)"
   ]
  },
  {
   "cell_type": "code",
   "execution_count": null,
   "id": "documented-festival",
   "metadata": {},
   "outputs": [],
   "source": [
    "# Metrics\n",
    "metric = load_metric(\"seqeval\")"
   ]
  },
  {
   "cell_type": "code",
   "execution_count": null,
   "id": "decimal-basic",
   "metadata": {},
   "outputs": [],
   "source": [
    "return_entity_level_metrics = True"
   ]
  },
  {
   "cell_type": "code",
   "execution_count": null,
   "id": "frank-bacteria",
   "metadata": {},
   "outputs": [],
   "source": [
    "def compute_metrics(p):\n",
    "    predictions, labels = p\n",
    "    predictions = np.argmax(predictions, axis=2)\n",
    "\n",
    "    # Remove ignored index (special tokens)\n",
    "    true_predictions = [\n",
    "        [label_list[p] for (p, l) in zip(prediction, label) if l != -100]\n",
    "        for prediction, label in zip(predictions, labels)\n",
    "    ]\n",
    "    true_labels = [\n",
    "        [label_list[l] for (p, l) in zip(prediction, label) if l != -100]\n",
    "        for prediction, label in zip(predictions, labels)\n",
    "    ]\n",
    "\n",
    "    results = metric.compute(predictions=true_predictions, references=true_labels)\n",
    "    if return_entity_level_metrics:\n",
    "        # Unpack nested dictionaries\n",
    "        final_results = {}\n",
    "        for key, value in results.items():\n",
    "            if isinstance(value, dict):\n",
    "                for n, v in value.items():\n",
    "                    final_results[f\"{key}_{n}\"] = v\n",
    "            else:\n",
    "                final_results[key] = value\n",
    "        return final_results\n",
    "    else:\n",
    "        return {\n",
    "            \"precision\": results[\"overall_precision\"],\n",
    "            \"recall\": results[\"overall_recall\"],\n",
    "            \"f1\": results[\"overall_f1\"],\n",
    "            \"accuracy\": results[\"overall_accuracy\"],\n",
    "        }"
   ]
  },
  {
   "cell_type": "code",
   "execution_count": null,
   "id": "powerful-combining",
   "metadata": {},
   "outputs": [],
   "source": [
    "output_dir = './models/transformers-ner-v01'"
   ]
  },
  {
   "cell_type": "code",
   "execution_count": null,
   "id": "altered-monte",
   "metadata": {},
   "outputs": [],
   "source": [
    "training_args = TrainingArguments(output_dir, num_train_epochs=5, per_device_train_batch_size=16, per_device_eval_batch_size=16)"
   ]
  },
  {
   "cell_type": "code",
   "execution_count": null,
   "id": "cubic-remainder",
   "metadata": {},
   "outputs": [],
   "source": [
    "# Initialize our Trainer\n",
    "trainer = Trainer(\n",
    "    model=model,\n",
    "    args=training_args,\n",
    "    train_dataset=tokenized_datasets[\"train\"],\n",
    "    eval_dataset=tokenized_datasets[\"validation\"],\n",
    "    tokenizer=tokenizer,\n",
    "    data_collator=data_collator,\n",
    "    compute_metrics=compute_metrics,\n",
    ")\n",
    "\n",
    "# Training\n",
    "# if last_checkpoint is not None:\n",
    "#     checkpoint = last_checkpoint\n",
    "# elif os.path.isdir(\"bert-base-uncased\"):\n",
    "#     checkpoint = \"bert-base-uncased\"\n",
    "# else:\n",
    "checkpoint = None\n",
    "\n",
    "train_result = trainer.train()\n",
    "trainer.save_model()  # Saves the tokenizer too for easy upload\n",
    "\n",
    "output_train_file = os.path.join(output_dir, \"train_results.txt\")\n",
    "if trainer.is_world_process_zero():\n",
    "    with open(output_train_file, \"w\") as writer:\n",
    "#         logger.info(\"***** Train results *****\")\n",
    "        for key, value in sorted(train_result.metrics.items()):\n",
    "#             logger.info(f\"  {key} = {value}\")\n",
    "            writer.write(f\"{key} = {value}\\n\")\n",
    "\n",
    "    # Need to save the state, since Trainer.save_model saves only the tokenizer with the model\n",
    "    trainer.state.save_to_json(os.path.join(output_dir, \"trainer_state.json\"))\n"
   ]
  },
  {
   "cell_type": "code",
   "execution_count": null,
   "id": "pressed-montana",
   "metadata": {},
   "outputs": [],
   "source": [
    "# Evaluation\n",
    "results = {}\n",
    "#do-eval\n",
    "# logger.info(\"*** Evaluate ***\")\n",
    "\n",
    "results = trainer.evaluate()\n",
    "\n",
    "output_eval_file = os.path.join(output_dir, \"eval_results_ner.txt\")\n",
    "if trainer.is_world_process_zero():\n",
    "    with open(output_eval_file, \"w\") as writer:\n",
    "#         logger.info(\"***** Eval results *****\")\n",
    "        for key, value in results.items():\n",
    "#             logger.info(f\"  {key} = {value}\")\n",
    "            writer.write(f\"{key} = {value}\\n\")"
   ]
  },
  {
   "cell_type": "markdown",
   "id": "established-mattress",
   "metadata": {},
   "source": [
    "## 3.3. Prediction"
   ]
  },
  {
   "cell_type": "code",
   "execution_count": null,
   "id": "difficult-birmingham",
   "metadata": {},
   "outputs": [],
   "source": [
    "test_dataset = load_dataset('json', data_files={'test': test_file_path} )"
   ]
  },
  {
   "cell_type": "code",
   "execution_count": null,
   "id": "quarterly-attempt",
   "metadata": {},
   "outputs": [],
   "source": [
    "tokenized_test_dataset = test_dataset.map(\n",
    "    tokenize_and_align_labels,\n",
    "    batched=True,\n",
    "    num_proc=preprocessing_num_workers,\n",
    "    load_from_cache_file=not overwrite_cache,\n",
    "    batch_size=2000\n",
    ")"
   ]
  },
  {
   "cell_type": "code",
   "execution_count": null,
   "id": "downtown-bangkok",
   "metadata": {},
   "outputs": [],
   "source": [
    "# Predict\n",
    "# logger.info(\"*** Predict ***\")\n",
    "\n",
    "test_dataset = tokenized_datasets[\"validation\"]\n",
    "predictions, labels, metrics = trainer.predict(test_dataset)\n",
    "predictions = np.argmax(predictions, axis=2)"
   ]
  },
  {
   "cell_type": "code",
   "execution_count": null,
   "id": "present-think",
   "metadata": {},
   "outputs": [],
   "source": [
    "# Remove ignored index (special tokens)\n",
    "true_predictions = [\n",
    "    [label_list[p] for (p, l) in zip(prediction, label) if l != -100]\n",
    "    for prediction, label in zip(predictions, labels)\n",
    "]"
   ]
  },
  {
   "cell_type": "code",
   "execution_count": null,
   "id": "rental-speaking",
   "metadata": {},
   "outputs": [],
   "source": [
    "output_test_results_file = os.path.join(training_args.output_dir, \"test_results.txt\")\n",
    "if trainer.is_world_process_zero():\n",
    "    with open(output_test_results_file, \"w\") as writer:\n",
    "        for key, value in sorted(metrics.items()):\n",
    "#             logger.info(f\"  {key} = {value}\")\n",
    "            writer.write(f\"{key} = {value}\\n\")"
   ]
  },
  {
   "cell_type": "code",
   "execution_count": null,
   "id": "alleged-medication",
   "metadata": {},
   "outputs": [],
   "source": [
    "# Save predictions\n",
    "output_test_predictions_file = os.path.join(training_args.output_dir, \"test_predictions.txt\")\n",
    "if trainer.is_world_process_zero():\n",
    "    with open(output_test_predictions_file, \"w\") as writer:\n",
    "        for prediction in true_predictions:\n",
    "            writer.write(\" \".join(prediction) + \"\\n\")"
   ]
  },
  {
   "cell_type": "code",
   "execution_count": null,
   "id": "continuous-essence",
   "metadata": {},
   "outputs": [],
   "source": [
    "def convert_trf_to_spacy_preds(texts, preds):\n",
    "    for text, pred in zip(texts,preds):\n",
    "        doc = nlp.make_doc(text)\n",
    "        "
   ]
  },
  {
   "cell_type": "code",
   "execution_count": null,
   "id": "republican-aircraft",
   "metadata": {},
   "outputs": [],
   "source": [
    "from spacy.tokens import Doc"
   ]
  },
  {
   "cell_type": "code",
   "execution_count": null,
   "id": "pointed-despite",
   "metadata": {},
   "outputs": [],
   "source": [
    "idx = 3\n",
    "doc = nlp.make_doc(test_dataset['text'][idx])\n",
    "tokens = test_dataset['tokens'][idx]\n",
    "ents = true_predictions[idx]"
   ]
  },
  {
   "cell_type": "code",
   "execution_count": null,
   "id": "hindu-restriction",
   "metadata": {},
   "outputs": [],
   "source": [
    "spacy.displacy.render(Doc(doc.vocab, words=tokens, ents=ents), style=\"ent\")"
   ]
  }
 ],
 "metadata": {
  "kernelspec": {
   "display_name": "Python 3",
   "language": "python",
   "name": "python3"
  },
  "language_info": {
   "codemirror_mode": {
    "name": "ipython",
    "version": 3
   },
   "file_extension": ".py",
   "mimetype": "text/x-python",
   "name": "python",
   "nbconvert_exporter": "python",
   "pygments_lexer": "ipython3",
   "version": "3.8.5"
  }
 },
 "nbformat": 4,
 "nbformat_minor": 5
}
